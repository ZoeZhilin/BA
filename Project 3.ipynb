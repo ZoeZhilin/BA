{
 "cells": [
  {
   "cell_type": "code",
   "execution_count": 2,
   "id": "0146fd91-40cf-4f70-90e9-22b857ce8baf",
   "metadata": {
    "tags": []
   },
   "outputs": [],
   "source": [
    "import pandas as pd "
   ]
  },
  {
   "cell_type": "code",
   "execution_count": 3,
   "id": "f34dbf89-66ca-4515-b599-1e36af3a431f",
   "metadata": {
    "tags": []
   },
   "outputs": [
    {
     "data": {
      "text/html": [
       "<div>\n",
       "<style scoped>\n",
       "    .dataframe tbody tr th:only-of-type {\n",
       "        vertical-align: middle;\n",
       "    }\n",
       "\n",
       "    .dataframe tbody tr th {\n",
       "        vertical-align: top;\n",
       "    }\n",
       "\n",
       "    .dataframe thead th {\n",
       "        text-align: right;\n",
       "    }\n",
       "</style>\n",
       "<table border=\"1\" class=\"dataframe\">\n",
       "  <thead>\n",
       "    <tr style=\"text-align: right;\">\n",
       "      <th></th>\n",
       "      <th>Unique Key</th>\n",
       "      <th>Created Date</th>\n",
       "      <th>Agency</th>\n",
       "      <th>Agency Name</th>\n",
       "      <th>Complaint Type</th>\n",
       "      <th>Descriptor</th>\n",
       "      <th>Location Type</th>\n",
       "      <th>Incident Zip</th>\n",
       "      <th>City</th>\n",
       "      <th>Resolution Description</th>\n",
       "      <th>Borough</th>\n",
       "      <th>Open Data Channel Type</th>\n",
       "    </tr>\n",
       "  </thead>\n",
       "  <tbody>\n",
       "    <tr>\n",
       "      <th>0</th>\n",
       "      <td>20184537</td>\n",
       "      <td>2011-04-06 00:00:00</td>\n",
       "      <td>HPD</td>\n",
       "      <td>Department of Housing Preservation and Develop...</td>\n",
       "      <td>HEATING</td>\n",
       "      <td>HEAT</td>\n",
       "      <td>RESIDENTIAL BUILDING</td>\n",
       "      <td>10002.0</td>\n",
       "      <td>NEW YORK</td>\n",
       "      <td>More than one complaint was received for this ...</td>\n",
       "      <td>MANHATTAN</td>\n",
       "      <td>UNKNOWN</td>\n",
       "    </tr>\n",
       "    <tr>\n",
       "      <th>1</th>\n",
       "      <td>20184538</td>\n",
       "      <td>2011-04-06 00:00:00</td>\n",
       "      <td>HPD</td>\n",
       "      <td>Department of Housing Preservation and Develop...</td>\n",
       "      <td>GENERAL CONSTRUCTION</td>\n",
       "      <td>WINDOWS</td>\n",
       "      <td>RESIDENTIAL BUILDING</td>\n",
       "      <td>11236.0</td>\n",
       "      <td>BROOKLYN</td>\n",
       "      <td>The Department of Housing Preservation and Dev...</td>\n",
       "      <td>BROOKLYN</td>\n",
       "      <td>UNKNOWN</td>\n",
       "    </tr>\n",
       "    <tr>\n",
       "      <th>2</th>\n",
       "      <td>20184539</td>\n",
       "      <td>2011-04-06 00:00:00</td>\n",
       "      <td>HPD</td>\n",
       "      <td>Department of Housing Preservation and Develop...</td>\n",
       "      <td>PAINT - PLASTER</td>\n",
       "      <td>WALLS</td>\n",
       "      <td>RESIDENTIAL BUILDING</td>\n",
       "      <td>10460.0</td>\n",
       "      <td>BRONX</td>\n",
       "      <td>The Department of Housing Preservation and Dev...</td>\n",
       "      <td>BRONX</td>\n",
       "      <td>UNKNOWN</td>\n",
       "    </tr>\n",
       "    <tr>\n",
       "      <th>3</th>\n",
       "      <td>54732265</td>\n",
       "      <td>2022-07-08 11:14:43</td>\n",
       "      <td>DSNY</td>\n",
       "      <td>Department of Sanitation</td>\n",
       "      <td>Dirty Condition</td>\n",
       "      <td>Trash</td>\n",
       "      <td>Sidewalk</td>\n",
       "      <td>10467.0</td>\n",
       "      <td>BRONX</td>\n",
       "      <td>The Department of Sanitation investigated this...</td>\n",
       "      <td>BRONX</td>\n",
       "      <td>PHONE</td>\n",
       "    </tr>\n",
       "    <tr>\n",
       "      <th>4</th>\n",
       "      <td>20184540</td>\n",
       "      <td>2011-04-06 00:00:00</td>\n",
       "      <td>HPD</td>\n",
       "      <td>Department of Housing Preservation and Develop...</td>\n",
       "      <td>NONCONST</td>\n",
       "      <td>VERMIN</td>\n",
       "      <td>RESIDENTIAL BUILDING</td>\n",
       "      <td>10460.0</td>\n",
       "      <td>BRONX</td>\n",
       "      <td>The Department of Housing Preservation and Dev...</td>\n",
       "      <td>BRONX</td>\n",
       "      <td>UNKNOWN</td>\n",
       "    </tr>\n",
       "  </tbody>\n",
       "</table>\n",
       "</div>"
      ],
      "text/plain": [
       "   Unique Key        Created Date Agency  \\\n",
       "0    20184537 2011-04-06 00:00:00    HPD   \n",
       "1    20184538 2011-04-06 00:00:00    HPD   \n",
       "2    20184539 2011-04-06 00:00:00    HPD   \n",
       "3    54732265 2022-07-08 11:14:43   DSNY   \n",
       "4    20184540 2011-04-06 00:00:00    HPD   \n",
       "\n",
       "                                         Agency Name        Complaint Type  \\\n",
       "0  Department of Housing Preservation and Develop...               HEATING   \n",
       "1  Department of Housing Preservation and Develop...  GENERAL CONSTRUCTION   \n",
       "2  Department of Housing Preservation and Develop...       PAINT - PLASTER   \n",
       "3                           Department of Sanitation       Dirty Condition   \n",
       "4  Department of Housing Preservation and Develop...              NONCONST   \n",
       "\n",
       "  Descriptor         Location Type Incident Zip      City  \\\n",
       "0       HEAT  RESIDENTIAL BUILDING      10002.0  NEW YORK   \n",
       "1    WINDOWS  RESIDENTIAL BUILDING      11236.0  BROOKLYN   \n",
       "2      WALLS  RESIDENTIAL BUILDING      10460.0     BRONX   \n",
       "3      Trash              Sidewalk      10467.0     BRONX   \n",
       "4     VERMIN  RESIDENTIAL BUILDING      10460.0     BRONX   \n",
       "\n",
       "                              Resolution Description    Borough  \\\n",
       "0  More than one complaint was received for this ...  MANHATTAN   \n",
       "1  The Department of Housing Preservation and Dev...   BROOKLYN   \n",
       "2  The Department of Housing Preservation and Dev...      BRONX   \n",
       "3  The Department of Sanitation investigated this...      BRONX   \n",
       "4  The Department of Housing Preservation and Dev...      BRONX   \n",
       "\n",
       "  Open Data Channel Type  \n",
       "0                UNKNOWN  \n",
       "1                UNKNOWN  \n",
       "2                UNKNOWN  \n",
       "3                  PHONE  \n",
       "4                UNKNOWN  "
      ]
     },
     "execution_count": 3,
     "metadata": {},
     "output_type": "execute_result"
    }
   ],
   "source": [
    "df = pd.read_pickle('shared/Project-3_NYC_311_Calls.pkl')\n",
    "df.head()"
   ]
  },
  {
   "cell_type": "code",
   "execution_count": null,
   "id": "e1ea8856-14c3-4f92-b1f1-1a9b018abcaa",
   "metadata": {
    "tags": []
   },
   "outputs": [],
   "source": [
    "#q1: What is the average number of daily complaints received in 2022?\n",
    "#(hint: use daily resampling on a column, for example, on the 'Unique Key' column as that has no missing values)\n",
    "\n",
    "df['Created Date'] = pd.to_datetime(df['Created Date'])\n",
    "\n",
    "df_2022 = df[df['Created Date'].dt.year == 2022]\n",
    "\n",
    "daily_complaints_2022 = df_2022.resample('D', on = 'Created Date').count()\n",
    "\n",
    "average_daily_complaints_2022 = daily_complaints_2022['Unique Key'].mean()\n",
    "average_daily_complaints_2022"
   ]
  },
  {
   "cell_type": "code",
   "execution_count": 5,
   "id": "32a40f9b-dccd-4eee-bcda-8b809353a167",
   "metadata": {
    "tags": []
   },
   "outputs": [
    {
     "data": {
      "text/plain": [
       "Timestamp('2013-01-24 00:00:00')"
      ]
     },
     "execution_count": 5,
     "metadata": {},
     "output_type": "execute_result"
    }
   ],
   "source": [
    "#q3: On which single date were the maximum number of calls received?\n",
    "\n",
    "daily_calls = df.groupby('Created Date').size()\n",
    "\n",
    "max_calls_date = daily_calls.idxmax()\n",
    "max_calls_date"
   ]
  },
  {
   "cell_type": "code",
   "execution_count": 6,
   "id": "5965af33-e480-4ab9-9b4f-e98960846ebc",
   "metadata": {
    "tags": []
   },
   "outputs": [
    {
     "data": {
      "text/plain": [
       "'HEATING'"
      ]
     },
     "execution_count": 6,
     "metadata": {},
     "output_type": "execute_result"
    }
   ],
   "source": [
    "#q3: On the date the maximum number of calls were received, what was the most important complaint type?\n",
    "\n",
    "df_max_calls = df[df['Created Date'] == max_calls_date]\n",
    "\n",
    "top_complain = df_max_calls['Complaint Type'].value_counts().idxmax()\n",
    "top_complain"
   ]
  },
  {
   "cell_type": "code",
   "execution_count": 7,
   "id": "3612d3bf-fb36-4f95-95eb-9d8744b20bcc",
   "metadata": {
    "tags": []
   },
   "outputs": [
    {
     "data": {
      "text/plain": [
       "'Dec'"
      ]
     },
     "execution_count": 7,
     "metadata": {},
     "output_type": "execute_result"
    }
   ],
   "source": [
    "#q4: Quietest month: Group the data by months, and identify the month that historically has the fewest number of calls.\n",
    "\n",
    "monthly_calls = df.groupby(df['Created Date'].dt.month).size()\n",
    "\n",
    "quietest_month = monthly_calls.idxmin()\n",
    "quietest_month_name = pd.to_datetime(str(quietest_month),format = '%m').strftime('%b')\n",
    "quietest_month_name"
   ]
  },
  {
   "cell_type": "code",
   "execution_count": null,
   "id": "7f1d1193-e9fa-4241-922a-14346a40b043",
   "metadata": {
    "tags": []
   },
   "outputs": [],
   "source": [
    "#q5:Resample your time series to a daily frequency.  Perform ETS decomposition based on an additive model.  What is the value of the seasonal component on 2020-12-25 (rounded to the nearest integer)?\n",
    "\n",
    "import statsmodels.api as sm \n",
    "df = df.set_index(pd.DatetimeIndex(df['Created Date']))\n",
    "del df['Created Date']\n",
    "\n",
    "daily_data = df['Unique Key'].resample('D').count()\n",
    "decomposition = sm.tsa.seasonal_decompose(daily_data, model ='additive')\n",
    "\n",
    "seasonal = decomposition.seasonal\n",
    "seasonal_value = seasonal['2020-12-25']\n",
    "\n",
    "rounded_seasonal_value = round(seasonal_value)\n",
    "rounded_seasonal_value"
   ]
  },
  {
   "cell_type": "code",
   "execution_count": null,
   "id": "69844ade-8748-422a-8fa4-2041859aa52e",
   "metadata": {},
   "outputs": [],
   "source": [
    "#q6: Calculate the autocorrelation of the number of daily calls with the number of calls the day prior, ie lag of 1.  (Use the daily series).\n",
    "autocorrelation_lag_1 = daily_data.autocorr(lag=1)\n",
    "autocorrelation_lag_1"
   ]
  },
  {
   "cell_type": "code",
   "execution_count": null,
   "id": "4a76c903-beaf-4104-8d78-1e7f7535f22f",
   "metadata": {},
   "outputs": [
    {
     "name": "stderr",
     "output_type": "stream",
     "text": [
      "/opt/conda/envs/mggy8413/lib/python3.10/site-packages/statsmodels/tsa/base/tsa_model.py:473: ValueWarning: A date index has been provided, but it has no associated frequency information and so will be ignored when e.g. forecasting.\n",
      "  self._init_dates(dates, freq)\n",
      "/opt/conda/envs/mggy8413/lib/python3.10/site-packages/statsmodels/tsa/base/tsa_model.py:473: ValueWarning: A date index has been provided, but it is not monotonic and so will be ignored when e.g. forecasting.\n",
      "  self._init_dates(dates, freq)\n",
      "/opt/conda/envs/mggy8413/lib/python3.10/site-packages/statsmodels/tsa/base/tsa_model.py:473: ValueWarning: A date index has been provided, but it has no associated frequency information and so will be ignored when e.g. forecasting.\n",
      "  self._init_dates(dates, freq)\n",
      "/opt/conda/envs/mggy8413/lib/python3.10/site-packages/statsmodels/tsa/base/tsa_model.py:473: ValueWarning: A date index has been provided, but it is not monotonic and so will be ignored when e.g. forecasting.\n",
      "  self._init_dates(dates, freq)\n",
      "/opt/conda/envs/mggy8413/lib/python3.10/site-packages/statsmodels/tsa/base/tsa_model.py:473: ValueWarning: A date index has been provided, but it has no associated frequency information and so will be ignored when e.g. forecasting.\n",
      "  self._init_dates(dates, freq)\n",
      "/opt/conda/envs/mggy8413/lib/python3.10/site-packages/statsmodels/tsa/base/tsa_model.py:473: ValueWarning: A date index has been provided, but it is not monotonic and so will be ignored when e.g. forecasting.\n",
      "  self._init_dates(dates, freq)\n"
     ]
    }
   ],
   "source": [
    "#q7: Forecast the daily series with a test set of 90 days using the Prophet library.  What is your RMSE on your test set?\n",
    "\n",
    "from prophet import Prophet\n",
    "from sklearn.metrics import mean_squared_error\n",
    "import pandas as pd\n",
    "import numpy as np\n",
    "\n",
    "df = pd.read_pickle('shared/Project-3_NYC_311_Calls.pkl')\n",
    "df_prophet = df.reset_index().rename(columns={'Created Date': 'ds', 'Unique Key': 'y'})\n",
    "\n",
    "# Split the data into training and test sets\n",
    "train = df_prophet.iloc[:-90]\n",
    "test = df_prophet.iloc[-90:]\n",
    "\n",
    "# Create and fit the Prophet model\n",
    "model = Prophet()\n",
    "model.fit(train)\n",
    "\n",
    "# Create future DataFrame for 90 days\n",
    "future = model.make_future_dataframe(periods=90)\n",
    "\n",
    "# Make predictions\n",
    "forecast = model.predict(future)\n",
    "\n",
    "# Calculate RMSE on the test set\n",
    "predictions = forecast['yhat'].iloc[-90:]\n",
    "rmse = np.sqrt(mean_squared_error(test['y'], predictions))\n",
    "print(rmse)"
   ]
  },
  {
   "cell_type": "code",
   "execution_count": null,
   "id": "1ffe31a1-96ed-4d24-9772-589ae45213f6",
   "metadata": {},
   "outputs": [],
   "source": []
  },
  {
   "cell_type": "code",
   "execution_count": null,
   "id": "6b303bf8-2df0-4a9c-887e-1f1d468bf0b0",
   "metadata": {},
   "outputs": [],
   "source": []
  }
 ],
 "metadata": {
  "kernelspec": {
   "display_name": "Python [conda env:mggy8413]",
   "language": "python",
   "name": "conda-env-mggy8413-py"
  },
  "language_info": {
   "codemirror_mode": {
    "name": "ipython",
    "version": 3
   },
   "file_extension": ".py",
   "mimetype": "text/x-python",
   "name": "python",
   "nbconvert_exporter": "python",
   "pygments_lexer": "ipython3",
   "version": "3.10.12"
  }
 },
 "nbformat": 4,
 "nbformat_minor": 5
}
